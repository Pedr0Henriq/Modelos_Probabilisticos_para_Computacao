{
  "nbformat": 4,
  "nbformat_minor": 0,
  "metadata": {
    "colab": {
      "provenance": [],
      "authorship_tag": "ABX9TyMr0smbUDvQ/7cf7eE/25YJ",
      "include_colab_link": true
    },
    "kernelspec": {
      "name": "python3",
      "display_name": "Python 3"
    },
    "language_info": {
      "name": "python"
    }
  },
  "cells": [
    {
      "cell_type": "markdown",
      "metadata": {
        "id": "view-in-github",
        "colab_type": "text"
      },
      "source": [
        "<a href=\"https://colab.research.google.com/github/Pedr0Henriq/Modelos_Probabilisticos_para_Computacao/blob/main/Algoritmo_Otimiza%C3%A7%C3%A3o.ipynb\" target=\"_parent\"><img src=\"https://colab.research.google.com/assets/colab-badge.svg\" alt=\"Open In Colab\"/></a>"
      ]
    },
    {
      "cell_type": "code",
      "execution_count": null,
      "metadata": {
        "id": "SQFxd3ab58cs"
      },
      "outputs": [],
      "source": [
        "pessoas = [('Lisboa','LIS'), ('Madrid','MAD'),('Paris','CDG'),('Dublin','DUB'),('Bruxelas','BRU'),('Londres','LHR')]"
      ]
    },
    {
      "cell_type": "code",
      "source": [
        "destino = 'FCO'"
      ],
      "metadata": {
        "id": "_T5zlVLA6fun"
      },
      "execution_count": null,
      "outputs": []
    },
    {
      "cell_type": "code",
      "source": [
        "voos = {}"
      ],
      "metadata": {
        "id": "QWDKReSo7vuG"
      },
      "execution_count": null,
      "outputs": []
    },
    {
      "cell_type": "code",
      "source": [
        "for linha in open('/flights.txt'):\n",
        "  origem, destino, saida, chegada, preco = linha.split(',')\n",
        "  voos.setdefault((origem,destino),[])\n",
        "  voos[(origem,destino)].append((saida,chegada,int(preco)))"
      ],
      "metadata": {
        "id": "ZzFGEkQJ7jje"
      },
      "execution_count": null,
      "outputs": []
    },
    {
      "cell_type": "code",
      "source": [
        "from google.colab import drive\n",
        "drive.mount('/content/drive')"
      ],
      "metadata": {
        "id": "z6Xt45RT3HCS"
      },
      "execution_count": null,
      "outputs": []
    },
    {
      "cell_type": "code",
      "source": [
        "voos"
      ],
      "metadata": {
        "colab": {
          "base_uri": "https://localhost:8080/"
        },
        "id": "0IthPpTV8leG",
        "outputId": "77eac8a0-ff99-4fb9-be87-d16f338959f4"
      },
      "execution_count": null,
      "outputs": [
        {
          "output_type": "execute_result",
          "data": {
            "text/plain": [
              "{('FCO', 'LIS'): [('6:19', '8:13', 239),\n",
              "  ('8:04', '10:59', 136),\n",
              "  ('9:31', '11:43', 210),\n",
              "  ('11:07', '13:24', 171),\n",
              "  ('12:31', '14:02', 234),\n",
              "  ('14:05', '15:47', 226),\n",
              "  ('15:07', '17:21', 129),\n",
              "  ('16:35', '18:56', 144),\n",
              "  ('18:25', '20:34', 205),\n",
              "  ('20:05', '21:44', 172)],\n",
              " ('LIS', 'FCO'): [('6:11', '8:31', 249),\n",
              "  ('7:39', '10:24', 219),\n",
              "  ('9:15', '12:03', 99),\n",
              "  ('11:08', '13:07', 175),\n",
              "  ('12:18', '14:56', 172),\n",
              "  ('13:37', '15:08', 250),\n",
              "  ('15:03', '16:42', 135),\n",
              "  ('16:51', '19:09', 147),\n",
              "  ('18:12', '20:17', 242),\n",
              "  ('20:05', '22:06', 261)],\n",
              " ('FCO', 'MAD'): [('6:03', '8:43', 219),\n",
              "  ('7:50', '10:08', 164),\n",
              "  ('9:11', '10:42', 172),\n",
              "  ('10:33', '13:11', 132),\n",
              "  ('12:08', '14:47', 231),\n",
              "  ('14:19', '17:09', 190),\n",
              "  ('15:04', '17:23', 189),\n",
              "  ('17:06', '20:00', 95),\n",
              "  ('18:33', '20:22', 143),\n",
              "  ('19:32', '21:25', 160)],\n",
              " ('MAD', 'FCO'): [('6:05', '8:32', 174),\n",
              "  ('8:25', '10:34', 157),\n",
              "  ('9:42', '11:32', 169),\n",
              "  ('11:01', '12:39', 260),\n",
              "  ('12:44', '14:17', 134),\n",
              "  ('14:22', '16:32', 126),\n",
              "  ('15:58', '18:40', 173),\n",
              "  ('16:43', '19:00', 246),\n",
              "  ('18:48', '21:45', 246),\n",
              "  ('19:50', '22:24', 269)],\n",
              " ('FCO', 'CDG'): [('6:33', '9:14', 172),\n",
              "  ('8:23', '11:07', 143),\n",
              "  ('9:25', '12:46', 295),\n",
              "  ('11:08', '14:38', 262),\n",
              "  ('12:37', '15:05', 170),\n",
              "  ('14:08', '16:09', 232),\n",
              "  ('15:23', '18:49', 150),\n",
              "  ('16:50', '19:26', 304),\n",
              "  ('18:07', '21:30', 355),\n",
              "  ('20:27', '23:42', 169)],\n",
              " ('CDG', 'FCO'): [('6:25', '9:30', 335),\n",
              "  ('7:34', '9:40', 324),\n",
              "  ('9:15', '12:29', 225),\n",
              "  ('11:28', '14:40', 248),\n",
              "  ('12:05', '15:30', 330),\n",
              "  ('14:01', '17:24', 338),\n",
              "  ('15:34', '18:11', 326),\n",
              "  ('17:07', '20:04', 291),\n",
              "  ('18:23', '21:35', 134),\n",
              "  ('19:53', '22:21', 173)],\n",
              " ('FCO', 'DUB'): [('6:39', '8:09', 86),\n",
              "  ('8:23', '10:28', 149),\n",
              "  ('9:58', '11:18', 130),\n",
              "  ('10:33', '12:03', 74),\n",
              "  ('12:08', '14:05', 142),\n",
              "  ('13:39', '15:30', 74),\n",
              "  ('15:25', '16:58', 62),\n",
              "  ('17:03', '18:03', 103),\n",
              "  ('18:24', '20:49', 124),\n",
              "  ('19:58', '21:23', 142)],\n",
              " ('DUB', 'FCO'): [('6:17', '8:26', 89),\n",
              "  ('8:04', '10:11', 95),\n",
              "  ('9:45', '11:50', 172),\n",
              "  ('11:16', '13:29', 83),\n",
              "  ('12:34', '15:02', 109),\n",
              "  ('13:40', '15:37', 138),\n",
              "  ('15:27', '17:18', 151),\n",
              "  ('17:11', '18:30', 108),\n",
              "  ('18:34', '19:36', 136),\n",
              "  ('20:17', '22:22', 102)],\n",
              " ('FCO', 'BRU'): [('6:09', '9:49', 414),\n",
              "  ('7:57', '11:15', 347),\n",
              "  ('9:49', '13:51', 229),\n",
              "  ('10:51', '14:16', 256),\n",
              "  ('12:20', '16:34', 500),\n",
              "  ('14:20', '17:32', 332),\n",
              "  ('15:49', '20:10', 497),\n",
              "  ('17:14', '20:59', 277),\n",
              "  ('18:44', '22:42', 351),\n",
              "  ('19:57', '23:15', 512)],\n",
              " ('BRU', 'FCO'): [('6:12', '10:22', 230),\n",
              "  ('7:53', '11:37', 433),\n",
              "  ('9:08', '12:12', 364),\n",
              "  ('10:30', '14:57', 290),\n",
              "  ('12:19', '15:25', 342),\n",
              "  ('13:54', '18:02', 294),\n",
              "  ('15:44', '18:55', 382),\n",
              "  ('16:52', '20:48', 448),\n",
              "  ('18:26', '21:29', 464),\n",
              "  ('20:07', '23:27', 473)],\n",
              " ('FCO', 'LHR'): [('6:58', '9:01', 238),\n",
              "  ('8:19', '11:16', 122),\n",
              "  ('9:58', '12:56', 249),\n",
              "  ('10:32', '13:16', 139),\n",
              "  ('12:01', '13:41', 267),\n",
              "  ('13:37', '15:33', 142),\n",
              "  ('15:50', '18:45', 243),\n",
              "  ('16:33', '18:15', 253),\n",
              "  ('18:17', '21:04', 259),\n",
              "  ('19:46', '21:45', 214)],\n",
              " ('LHR', 'FCO'): [('6:08', '8:06', 224),\n",
              "  ('8:27', '10:45', 139),\n",
              "  ('9:15', '12:14', 247),\n",
              "  ('10:53', '13:36', 189),\n",
              "  ('12:08', '14:59', 149),\n",
              "  ('13:40', '15:38', 137),\n",
              "  ('15:23', '17:25', 232),\n",
              "  ('17:08', '19:08', 262),\n",
              "  ('18:35', '20:28', 204),\n",
              "  ('20:30', '23:11', 114)]}"
            ]
          },
          "metadata": {},
          "execution_count": 16
        }
      ]
    },
    {
      "cell_type": "code",
      "source": [
        "agenda = [1,2, 3,2, 7,3, 6,3, 2,4, 5,3]"
      ],
      "metadata": {
        "id": "hmU17MgZ_B4g"
      },
      "execution_count": null,
      "outputs": []
    },
    {
      "cell_type": "code",
      "source": [
        "def print_voos(agenda):\n",
        "  id_voo = -1\n",
        "  total_preco = 0\n",
        "\n",
        "  for i in range(len(agenda)//2):\n",
        "    nome = pessoas[i][0]\n",
        "    origem = pessoas[i][1]\n",
        "    id_voo +=1\n",
        "    ida = voos[(origem,destino)][agenda[id_voo]]\n",
        "    total_preco += ida[2]\n",
        "    id_voo += 1\n",
        "    volta = voos[(destino,origem)][agenda[id_voo]]\n",
        "    total_preco+=volta[2]\n",
        "    print('%10s%10s %5s-%5s %3s %5s-%5s %3s '% (nome,origem,ida[0],ida[1],ida[2],\n",
        "                                                volta[0],volta[1],volta[2]))\n",
        "  print('Preço Total: ',total_preco)"
      ],
      "metadata": {
        "id": "xL3be_9W9SHY"
      },
      "execution_count": null,
      "outputs": []
    },
    {
      "cell_type": "code",
      "source": [
        "print_voos(agenda)"
      ],
      "metadata": {
        "colab": {
          "base_uri": "https://localhost:8080/"
        },
        "id": "xNRBvjva_JbU",
        "outputId": "82762412-b20c-4807-85dc-c1531b0a4ff3"
      },
      "execution_count": null,
      "outputs": [
        {
          "output_type": "stream",
          "name": "stdout",
          "text": [
            "    Lisboa       LIS  7:39-10:24 219  9:31-11:43 210 \n",
            "    Madrid       MAD 11:01-12:39 260  9:11-10:42 172 \n",
            "     Paris       CDG 17:07-20:04 291 11:08-14:38 262 \n",
            "    Dublin       DUB 15:27-17:18 151 10:33-12:03  74 \n",
            "  Bruxelas       BRU  9:08-12:12 364 12:20-16:34 500 \n",
            "   Londres       LHR 13:40-15:38 137 10:32-13:16 139 \n",
            "Preço Total:  2779\n"
          ]
        }
      ]
    },
    {
      "cell_type": "markdown",
      "source": [
        "FITNESS FUNCTION\n"
      ],
      "metadata": {
        "id": "YnP8E4EgFcjw"
      }
    },
    {
      "cell_type": "code",
      "source": [
        "def fitness_function(agenda):\n",
        "  id_voo = -1\n",
        "  total_preco = 0\n",
        "\n",
        "  for i in range(len(agenda)//2):\n",
        "    origem = pessoas[i][1]\n",
        "    id_voo +=1\n",
        "    ida = voos[(origem,destino)][agenda[id_voo]]\n",
        "    total_preco += ida[2]\n",
        "    id_voo += 1\n",
        "    volta = voos[(destino,origem)][agenda[id_voo]]\n",
        "    total_preco+=volta[2]\n",
        "  return total_preco"
      ],
      "metadata": {
        "id": "bQ0hgu-NFe0H"
      },
      "execution_count": null,
      "outputs": []
    },
    {
      "cell_type": "code",
      "source": [
        "!git clone https://github.com/gkhayes/mlrose.git"
      ],
      "metadata": {
        "colab": {
          "base_uri": "https://localhost:8080/"
        },
        "id": "9RiKiMmLNDbo",
        "outputId": "1dd961f7-0474-48fe-dbc5-25e7b3e42a59"
      },
      "execution_count": null,
      "outputs": [
        {
          "output_type": "stream",
          "name": "stdout",
          "text": [
            "Cloning into 'mlrose'...\n",
            "remote: Enumerating objects: 853, done.\u001b[K\n",
            "remote: Counting objects: 100% (274/274), done.\u001b[K\n",
            "remote: Compressing objects: 100% (40/40), done.\u001b[K\n",
            "remote: Total 853 (delta 245), reused 234 (delta 234), pack-reused 579 (from 1)\u001b[K\n",
            "Receiving objects: 100% (853/853), 406.91 KiB | 17.69 MiB/s, done.\n",
            "Resolving deltas: 100% (554/554), done.\n"
          ]
        }
      ]
    },
    {
      "cell_type": "code",
      "source": [
        "%cd mlrose"
      ],
      "metadata": {
        "colab": {
          "base_uri": "https://localhost:8080/"
        },
        "id": "yflkKXVW2Lj2",
        "outputId": "360c7efe-2a4c-4b45-9463-9ed4f4da0289"
      },
      "execution_count": null,
      "outputs": [
        {
          "output_type": "stream",
          "name": "stdout",
          "text": [
            "/content/mlrose\n"
          ]
        }
      ]
    },
    {
      "cell_type": "code",
      "source": [
        "!pip install ."
      ],
      "metadata": {
        "colab": {
          "base_uri": "https://localhost:8080/"
        },
        "id": "J-EKbzMB2QYO",
        "outputId": "ebe8d600-d823-468a-ba06-9c87e2820c38"
      },
      "execution_count": null,
      "outputs": [
        {
          "output_type": "stream",
          "name": "stdout",
          "text": [
            "Processing /content/mlrose\n",
            "  Preparing metadata (setup.py) ... \u001b[?25l\u001b[?25hdone\n",
            "Requirement already satisfied: numpy in /usr/local/lib/python3.10/dist-packages (from mlrose==1.3.0) (1.26.4)\n",
            "Requirement already satisfied: scipy in /usr/local/lib/python3.10/dist-packages (from mlrose==1.3.0) (1.13.1)\n",
            "Requirement already satisfied: scikit-learn in /usr/local/lib/python3.10/dist-packages (from mlrose==1.3.0) (1.5.2)\n",
            "Requirement already satisfied: joblib>=1.2.0 in /usr/local/lib/python3.10/dist-packages (from scikit-learn->mlrose==1.3.0) (1.4.2)\n",
            "Requirement already satisfied: threadpoolctl>=3.1.0 in /usr/local/lib/python3.10/dist-packages (from scikit-learn->mlrose==1.3.0) (3.5.0)\n",
            "Building wheels for collected packages: mlrose\n",
            "  Building wheel for mlrose (setup.py) ... \u001b[?25l\u001b[?25hdone\n",
            "  Created wheel for mlrose: filename=mlrose-1.3.0-py3-none-any.whl size=27699 sha256=29415cf0b8667d67fc843660ee819e284b43d75034f32b71796fdc5a3f926e27\n",
            "  Stored in directory: /tmp/pip-ephem-wheel-cache-yqjdyf0q/wheels/50/ac/56/a248001dcf63344fbef992039dec2613cb4a7c56222c6f9a92\n",
            "Successfully built mlrose\n",
            "Installing collected packages: mlrose\n",
            "  Attempting uninstall: mlrose\n",
            "    Found existing installation: mlrose 1.3.0\n",
            "    Uninstalling mlrose-1.3.0:\n",
            "      Successfully uninstalled mlrose-1.3.0\n",
            "Successfully installed mlrose-1.3.0\n"
          ]
        }
      ]
    },
    {
      "cell_type": "code",
      "source": [
        "import mlrose"
      ],
      "metadata": {
        "id": "ilAZSWMK3mMH"
      },
      "execution_count": 1,
      "outputs": []
    },
    {
      "cell_type": "code",
      "source": [
        "fitness = mlrose.CustomFitness(fitness_function)\n",
        "\n",
        "problema = mlrose.DiscreteOpt(length = 12, fitness_fn= fitness, maximize = False, max_val = 10)"
      ],
      "metadata": {
        "id": "IaRa9WdlCaKJ"
      },
      "execution_count": null,
      "outputs": []
    },
    {
      "cell_type": "markdown",
      "source": [
        "HILL CLIMB"
      ],
      "metadata": {
        "id": "nwdVtFTFHdKc"
      }
    },
    {
      "cell_type": "code",
      "source": [
        "melhor_solucao, melhor_custo = mlrose.hill_climb(problema)\n",
        "melhor_solucao, melhor_custo"
      ],
      "metadata": {
        "colab": {
          "base_uri": "https://localhost:8080/"
        },
        "id": "TkMCoc1vHelj",
        "outputId": "f00db122-6842-42fc-f288-76451af5d81d"
      },
      "execution_count": null,
      "outputs": [
        {
          "output_type": "execute_result",
          "data": {
            "text/plain": [
              "(array([2, 6, 5, 7, 8, 1, 3, 6, 0, 2, 9, 1]), 1566.0)"
            ]
          },
          "metadata": {},
          "execution_count": 18
        }
      ]
    },
    {
      "cell_type": "code",
      "source": [
        "print_voos(melhor_solucao)"
      ],
      "metadata": {
        "colab": {
          "base_uri": "https://localhost:8080/"
        },
        "id": "Bn-Zx-fTH-Kz",
        "outputId": "38b9c54b-c820-4811-aac7-af4c0f511a61"
      },
      "execution_count": null,
      "outputs": [
        {
          "output_type": "stream",
          "name": "stdout",
          "text": [
            "    Lisboa       LIS  9:15-12:03  99 15:07-17:21 129 \n",
            "    Madrid       MAD 14:22-16:32 126 17:06-20:00  95 \n",
            "     Paris       CDG 18:23-21:35 134  8:23-11:07 143 \n",
            "    Dublin       DUB 11:16-13:29  83 15:25-16:58  62 \n",
            "  Bruxelas       BRU  6:12-10:22 230  9:49-13:51 229 \n",
            "   Londres       LHR 20:30-23:11 114  8:19-11:16 122 \n",
            "Preço Total:  1566\n"
          ]
        }
      ]
    },
    {
      "cell_type": "markdown",
      "source": [
        "SIMULATED ANNEALING"
      ],
      "metadata": {
        "id": "PTJWBKQMJKO8"
      }
    },
    {
      "cell_type": "code",
      "source": [
        "melhor_solucao, melhor_custo = mlrose.simulated_annealing(problema)\n",
        "melhor_solucao, melhor_custo"
      ],
      "metadata": {
        "colab": {
          "base_uri": "https://localhost:8080/"
        },
        "id": "WwOuRUhhJOsK",
        "outputId": "72a76a0c-a9a8-457e-ee0e-2aa7a1e06f27"
      },
      "execution_count": null,
      "outputs": [
        {
          "output_type": "execute_result",
          "data": {
            "text/plain": [
              "(array([2, 6, 5, 3, 2, 4, 3, 6, 0, 2, 9, 1]), 1721.0)"
            ]
          },
          "metadata": {},
          "execution_count": 26
        }
      ]
    },
    {
      "cell_type": "markdown",
      "source": [
        "GENETIC ALGORITM"
      ],
      "metadata": {
        "id": "_JBDjBN1MxRv"
      }
    },
    {
      "cell_type": "code",
      "source": [
        "melhor_solucao, melhor_custo = mlrose.genetic_alg(problema, pop_size = 500, mutation_prob=0.2)\n",
        "melhor_solucao, melhor_custo"
      ],
      "metadata": {
        "colab": {
          "base_uri": "https://localhost:8080/"
        },
        "id": "cwQTpgOEM4E2",
        "outputId": "95799b49-9279-4cb4-b76e-80645fa8d159"
      },
      "execution_count": null,
      "outputs": [
        {
          "output_type": "execute_result",
          "data": {
            "text/plain": [
              "(array([3, 7, 5, 3, 9, 6, 7, 0, 3, 2, 5, 1]), 1872.0)"
            ]
          },
          "metadata": {},
          "execution_count": 35
        }
      ]
    },
    {
      "cell_type": "markdown",
      "source": [
        "EXERCÍCIO OTIMIZAÇÃO"
      ],
      "metadata": {
        "id": "k5MlnyRaOb3N"
      }
    },
    {
      "cell_type": "code",
      "source": [
        "itens = [('Refrigerador A', 0.751, 999.90), ('Celular', 0.0000899,2199.12),('TV 55`',0.4,4346.99),('TV 50`',0.29, 3999.90),\n",
        "         ('TV 42`', 0.2, 2999.90),('Notebook A',0.0035,2499.90),('Ventilador',0.496,199.90),('Microondas A',0.0424,308.66),\n",
        "         ('Microondas B',0.0544,429.90),('Microondas C',0.0319,299.29),('Refrigerador B', 0.635, 849.00),('Refrigerador C', 0.870, 1199.89),\n",
        "         ('Notebook B',0.498,1999.90),('Notebook C',0.527,3999.00)]"
      ],
      "metadata": {
        "id": "TR-Op_0yOemE"
      },
      "execution_count": 2,
      "outputs": []
    },
    {
      "cell_type": "code",
      "source": [
        "\n",
        "capacidade_maxima = 3.0\n"
      ],
      "metadata": {
        "id": "6rurbd-vQrn6"
      },
      "execution_count": 3,
      "outputs": []
    },
    {
      "cell_type": "code",
      "source": [
        "def print_itens(exemplo):\n",
        "  k =0\n",
        "  capacidade_atual = 0.0\n",
        "  preco_total = 0.0\n",
        "  print('%4s%5s%5s\\n'%('Item','Capacidade','Preço'))\n",
        "  for i in range(len(exemplo)):\n",
        "    if exemplo[i] == 1:\n",
        "      preco_total+= itens[i][2]\n",
        "      capacidade_atual += itens[i][1]\n",
        "      print(k+1,' - ',itens[i][0], itens[i][1],itens[i][2])\n",
        "      k+=1\n",
        "  print('Preço Total: ',round(preco_total,2))\n",
        "  print('Capacidade Final: ',capacidade_atual)"
      ],
      "metadata": {
        "id": "kXutvx-tUCFH"
      },
      "execution_count": 4,
      "outputs": []
    },
    {
      "cell_type": "code",
      "source": [
        "\n",
        "def custom_function(exemplo):\n",
        "  preco_total = 0.0\n",
        "  capacidade_atual = 0.0\n",
        "\n",
        "  for i in range(len(exemplo)):\n",
        "    if exemplo[i] == 1 and capacidade_atual<capacidade_maxima:\n",
        "      capacidade_atual += itens[i][1]\n",
        "      preco_total+= itens[i][2]\n",
        "    if capacidade_atual >= capacidade_maxima:\n",
        "      for j in range(i,len(exemplo)):\n",
        "        exemplo[j] = 0\n",
        "      break\n",
        "\n",
        "  return preco_total\n"
      ],
      "metadata": {
        "id": "gvQd9BeEQ4wy"
      },
      "execution_count": 73,
      "outputs": []
    },
    {
      "cell_type": "code",
      "source": [
        "exemplo = [0 , 1 , 1 , 0 , 0 , 1 , 1 , 0 , 1 , 0 , 1 , 1]\n",
        "\n",
        "print_itens(exemplo)"
      ],
      "metadata": {
        "colab": {
          "base_uri": "https://localhost:8080/"
        },
        "id": "OGXDnwnGTw_o",
        "outputId": "84659a60-5c25-4be2-c6be-fa7be187b475"
      },
      "execution_count": null,
      "outputs": [
        {
          "output_type": "stream",
          "name": "stdout",
          "text": [
            "ItemCapacidadePreço\n",
            "\n",
            "1  -  Celular 8.99e-05 2199.12\n",
            "2  -  TV 55` 0.4 4346.99\n",
            "3  -  Notebook A 0.0035 2499.9\n",
            "4  -  Ventilador 0.496 199.9\n",
            "5  -  Microondas B 0.0544 429.9\n",
            "6  -  Refrigerador B 0.635 849.0\n",
            "7  -  Refrigerador C 0.87 1199.89\n",
            "Preço Total:  11724.7\n"
          ]
        }
      ]
    },
    {
      "cell_type": "code",
      "source": [
        "fitness_f= mlrose.CustomFitness(custom_function)"
      ],
      "metadata": {
        "id": "XuynJFIuWTdu"
      },
      "execution_count": 74,
      "outputs": []
    },
    {
      "cell_type": "code",
      "source": [
        "problema = mlrose.DiscreteOpt(length = 14, fitness_fn= fitness_f, max_val = 2)"
      ],
      "metadata": {
        "id": "UOWCr6VrWbBV"
      },
      "execution_count": 75,
      "outputs": []
    },
    {
      "cell_type": "markdown",
      "source": [
        "HILL CLIMB"
      ],
      "metadata": {
        "id": "s3bMX2xeWtid"
      }
    },
    {
      "cell_type": "code",
      "source": [
        "solucao_final, custo_final = mlrose.hill_climb(problema)\n",
        "print_itens(solucao_final)"
      ],
      "metadata": {
        "colab": {
          "base_uri": "https://localhost:8080/"
        },
        "id": "yqc3rLh4Ww4t",
        "outputId": "10f0e9de-bd82-421c-cbff-2375c590f146"
      },
      "execution_count": 76,
      "outputs": [
        {
          "output_type": "stream",
          "name": "stdout",
          "text": [
            "ItemCapacidadePreço\n",
            "\n",
            "1  -  Celular 8.99e-05 2199.12\n",
            "2  -  TV 55` 0.4 4346.99\n",
            "3  -  TV 50` 0.29 3999.9\n",
            "4  -  TV 42` 0.2 2999.9\n",
            "5  -  Notebook A 0.0035 2499.9\n",
            "6  -  Ventilador 0.496 199.9\n",
            "7  -  Microondas A 0.0424 308.66\n",
            "8  -  Microondas B 0.0544 429.9\n",
            "9  -  Microondas C 0.0319 299.29\n",
            "10  -  Notebook B 0.498 1999.9\n",
            "11  -  Notebook C 0.527 3999.0\n",
            "Preço Total:  23282.46\n",
            "Capacidade Final:  2.5432899\n"
          ]
        }
      ]
    },
    {
      "cell_type": "markdown",
      "source": [
        "SIMULATED ANNEALING"
      ],
      "metadata": {
        "id": "LZh2fPnvXb0t"
      }
    },
    {
      "cell_type": "code",
      "source": [
        "solucao_final, custo_final = mlrose.simulated_annealing(problema)\n",
        "print_itens(solucao_final)"
      ],
      "metadata": {
        "colab": {
          "base_uri": "https://localhost:8080/"
        },
        "id": "VVYDdRFXXkKN",
        "outputId": "c2f81684-478b-4fd1-91c2-9d72eec11156"
      },
      "execution_count": 77,
      "outputs": [
        {
          "output_type": "stream",
          "name": "stdout",
          "text": [
            "ItemCapacidadePreço\n",
            "\n",
            "1  -  Refrigerador A 0.751 999.9\n",
            "2  -  Celular 8.99e-05 2199.12\n",
            "3  -  TV 55` 0.4 4346.99\n",
            "4  -  TV 50` 0.29 3999.9\n",
            "5  -  Notebook A 0.0035 2499.9\n",
            "6  -  Ventilador 0.496 199.9\n",
            "7  -  Microondas A 0.0424 308.66\n",
            "8  -  Microondas B 0.0544 429.9\n",
            "9  -  Microondas C 0.0319 299.29\n",
            "10  -  Refrigerador B 0.635 849.0\n",
            "Preço Total:  16132.56\n",
            "Capacidade Final:  2.7042899\n"
          ]
        }
      ]
    },
    {
      "cell_type": "markdown",
      "source": [
        "GENETIC ALGORITM"
      ],
      "metadata": {
        "id": "Biy331P-X77c"
      }
    },
    {
      "cell_type": "code",
      "source": [
        "solucao_final, custo_final = mlrose.genetic_alg(problema,pop_size = 500, mutation_prob=0.2)\n",
        "print_itens(solucao_final)"
      ],
      "metadata": {
        "colab": {
          "base_uri": "https://localhost:8080/"
        },
        "id": "LXMKzSgAX-DT",
        "outputId": "10d4d4d2-62ba-4a11-af6a-9e89fd640fc0"
      },
      "execution_count": 79,
      "outputs": [
        {
          "output_type": "stream",
          "name": "stdout",
          "text": [
            "ItemCapacidadePreço\n",
            "\n",
            "1  -  Refrigerador A 0.751 999.9\n",
            "2  -  Celular 8.99e-05 2199.12\n",
            "3  -  TV 55` 0.4 4346.99\n",
            "4  -  TV 50` 0.29 3999.9\n",
            "5  -  TV 42` 0.2 2999.9\n",
            "6  -  Notebook A 0.0035 2499.9\n",
            "7  -  Microondas A 0.0424 308.66\n",
            "8  -  Microondas B 0.0544 429.9\n",
            "9  -  Notebook B 0.498 1999.9\n",
            "10  -  Notebook C 0.527 3999.0\n",
            "Preço Total:  23783.17\n",
            "Capacidade Final:  2.7663899\n"
          ]
        }
      ]
    }
  ]
}