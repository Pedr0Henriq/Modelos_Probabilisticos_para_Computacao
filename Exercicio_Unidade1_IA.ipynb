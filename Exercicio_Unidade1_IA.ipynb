{
  "nbformat": 4,
  "nbformat_minor": 0,
  "metadata": {
    "colab": {
      "provenance": [],
      "authorship_tag": "ABX9TyPijq9ELcPSTst25nUWSdbo",
      "include_colab_link": true
    },
    "kernelspec": {
      "name": "python3",
      "display_name": "Python 3"
    },
    "language_info": {
      "name": "python"
    }
  },
  "cells": [
    {
      "cell_type": "markdown",
      "metadata": {
        "id": "view-in-github",
        "colab_type": "text"
      },
      "source": [
        "<a href=\"https://colab.research.google.com/github/Pedr0Henriq/Modelos_Probabilisticos_para_Computacao/blob/main/Exercicio_Unidade1_IA.ipynb\" target=\"_parent\"><img src=\"https://colab.research.google.com/assets/colab-badge.svg\" alt=\"Open In Colab\"/></a>"
      ]
    },
    {
      "cell_type": "markdown",
      "source": [
        "BUSCA A*"
      ],
      "metadata": {
        "id": "32QCoISXqwJH"
      }
    },
    {
      "cell_type": "code",
      "execution_count": null,
      "metadata": {
        "id": "IcMiZTfzA7GC"
      },
      "outputs": [],
      "source": [
        "import numpy as np"
      ]
    },
    {
      "cell_type": "code",
      "source": [
        "class No:\n",
        "\n",
        "  def __init__(self,rotulo, dObjective):\n",
        "    self.rotulo = rotulo\n",
        "    self.visitado = False\n",
        "    self.nearby = []\n",
        "    self.dObjective = dObjective\n",
        "\n",
        "  def add_nearby(self, nearby):\n",
        "    self.nearby.append(nearby)\n",
        "\n",
        "  def show_nearby(self):\n",
        "    for i in self.nearby:\n",
        "      print(f'{i.no.rotulo}. Custo: {i.custo}')\n",
        "\n",
        "\n"
      ],
      "metadata": {
        "id": "AM1CInS2C83I"
      },
      "execution_count": null,
      "outputs": []
    },
    {
      "cell_type": "code",
      "source": [
        "class NearbyNo:\n",
        "  def __init__(self,no,custo):\n",
        "    self.no = no\n",
        "    self.custo = custo\n",
        "    self.distancia_aestrela = self.custo + self.no.dObjective"
      ],
      "metadata": {
        "id": "zYbxvnXuD3w4"
      },
      "execution_count": null,
      "outputs": []
    },
    {
      "cell_type": "code",
      "source": [
        "class Grafo:\n",
        "  portoUniao = No(\"portoUniao\",203)\n",
        "  pauloFrontin = No(\"pauloFrontin\",172)\n",
        "  canoinhas = No(\"canoinhas\",141)\n",
        "  saoMateus = No(\"saoMateus\",123)\n",
        "  irati = No(\"irati\",139)\n",
        "  tresBarras = No(\"tresBarras\",133)\n",
        "  mafra = No(\"mafra\",94)\n",
        "  lapa = No(\"lapa\",74)\n",
        "  palmeira = No(\"palmeira\",59)\n",
        "  contenda = No(\"contenda\",39)\n",
        "  balsaNova = No(\"balsaNova\",41)\n",
        "  campoLargo = No(\"campoLargo\",27)\n",
        "  araucaria = No(\"araucaria\",23)\n",
        "  saoJosePinhais = No(\"saoJosePinhais\",13)\n",
        "  tijucasSul = No(\"tijucasSul\",56)\n",
        "  curitiba = No(\"curitiba\",0)\n",
        "\n",
        "  portoUniao.add_nearby(NearbyNo(pauloFrontin,46))\n",
        "  portoUniao.add_nearby(NearbyNo(saoMateus,87))\n",
        "  portoUniao.add_nearby(NearbyNo(canoinhas,78))\n",
        "\n",
        "  pauloFrontin.add_nearby(NearbyNo(irati,75))\n",
        "  pauloFrontin.add_nearby(NearbyNo(portoUniao,46))\n",
        "\n",
        "  canoinhas.add_nearby(NearbyNo(portoUniao,78))\n",
        "  canoinhas.add_nearby(NearbyNo(tresBarras,12))\n",
        "  canoinhas.add_nearby(NearbyNo(mafra,66))\n",
        "\n",
        "  irati.add_nearby(NearbyNo(pauloFrontin,75))\n",
        "  irati.add_nearby(NearbyNo(saoMateus,57))\n",
        "  irati.add_nearby(NearbyNo(palmeira,75))\n",
        "\n",
        "  tresBarras.add_nearby(NearbyNo(canoinhas,12))\n",
        "  tresBarras.add_nearby(NearbyNo(saoMateus,43))\n",
        "\n",
        "  mafra.add_nearby(NearbyNo(canoinhas,66))\n",
        "  mafra.add_nearby(NearbyNo(lapa,57))\n",
        "  mafra.add_nearby(NearbyNo(tijucasSul,99))\n",
        "\n",
        "  lapa.add_nearby(NearbyNo(mafra,57))\n",
        "  lapa.add_nearby(NearbyNo(saoMateus,60))\n",
        "  lapa.add_nearby(NearbyNo(contenda,26))\n",
        "\n",
        "  palmeira.add_nearby(NearbyNo(saoMateus,77))\n",
        "  palmeira.add_nearby(NearbyNo(campoLargo,55))\n",
        "  palmeira.add_nearby(NearbyNo(irati,75))\n",
        "\n",
        "  contenda.add_nearby(NearbyNo(lapa,26))\n",
        "  contenda.add_nearby(NearbyNo(balsaNova,19))\n",
        "  contenda.add_nearby(NearbyNo(araucaria,18))\n",
        "\n",
        "  saoMateus.add_nearby(NearbyNo(portoUniao,87))\n",
        "  saoMateus.add_nearby(NearbyNo(irati,57))\n",
        "  saoMateus.add_nearby(NearbyNo(palmeira,77))\n",
        "  saoMateus.add_nearby(NearbyNo(tresBarras,43))\n",
        "  saoMateus.add_nearby(NearbyNo(lapa,60))\n",
        "\n",
        "  campoLargo.add_nearby(NearbyNo(curitiba,29))\n",
        "  campoLargo.add_nearby(NearbyNo(palmeira,55))\n",
        "  campoLargo.add_nearby(NearbyNo(balsaNova,22))\n",
        "\n",
        "  balsaNova.add_nearby(NearbyNo(campoLargo,22))\n",
        "  balsaNova.add_nearby(NearbyNo(curitiba,51))\n",
        "  balsaNova.add_nearby(NearbyNo(contenda,19))\n",
        "\n",
        "  araucaria.add_nearby(NearbyNo(contenda,18))\n",
        "  araucaria.add_nearby(NearbyNo(curitiba,37))\n",
        "\n",
        "  saoJosePinhais.add_nearby(NearbyNo(curitiba,15))\n",
        "  saoJosePinhais.add_nearby(NearbyNo(tijucasSul,49))\n",
        "\n",
        "  tijucasSul.add_nearby(NearbyNo(mafra,99))\n",
        "  tijucasSul.add_nearby(NearbyNo(saoJosePinhais,49))\n",
        "\n"
      ],
      "metadata": {
        "id": "W2GfJJOrEEYV"
      },
      "execution_count": null,
      "outputs": []
    },
    {
      "cell_type": "code",
      "source": [
        "class VetorOrdenado:\n",
        "  def __init__(self, capacidade):\n",
        "    self.capacidade = capacidade\n",
        "    self.ultima_posicao = -1\n",
        "    self.valores = np.empty(self.capacidade,dtype = object)\n",
        "\n",
        "  def insere(self, valor):\n",
        "    posicao= 0\n",
        "\n",
        "    for i in range(self.ultima_posicao + 1):\n",
        "      posicao = i\n",
        "      if self.valores[i].distancia_aestrela > valor.distancia_aestrela:\n",
        "        break\n",
        "      if i ==self.ultima_posicao:\n",
        "        posicao = i+1\n",
        "    x = self.ultima_posicao\n",
        "    while x >= posicao:\n",
        "        self.valores[x+1] = self.valores[x]\n",
        "        x -=1\n",
        "    self.valores[posicao] = valor\n",
        "    self.ultima_posicao+=1\n",
        "\n",
        "  def imprime(self):\n",
        "    if self.ultima_posicao == -1:\n",
        "      print(\"O vetor está vazio\")\n",
        "      return\n",
        "    for i in range (self.ultima_posicao + 1):\n",
        "      print(i, ' - ',self.valores[i].no.rotulo, ' - ',self.valores[i].custo, ' - ', self.valores[i].no.dObjective, ' - ', self.valores[i].distancia_aestrela)"
      ],
      "metadata": {
        "id": "vlQaIw1MWd6D"
      },
      "execution_count": null,
      "outputs": []
    },
    {
      "cell_type": "code",
      "source": [
        "grafo = Grafo()"
      ],
      "metadata": {
        "id": "m1DhcjUqbJS7"
      },
      "execution_count": null,
      "outputs": []
    },
    {
      "cell_type": "code",
      "source": [
        "class AEstrela:\n",
        "  def __init__(self,inicio,fim):\n",
        "    self.inicio=inicio\n",
        "    self.fim = fim\n",
        "    self.atual = inicio\n",
        "    self.passos = 0\n",
        "\n",
        "  def caminho(self,atual):\n",
        "    if self.atual == self.fim:\n",
        "      return\n",
        "    vetor = VetorOrdenado(len(self.atual.nearby))\n",
        "    for i in range(len(self.atual.nearby)):\n",
        "      vetor.insere(self.atual.nearby[i])\n",
        "    x = 0\n",
        "    while x<=len(self.atual.nearby):\n",
        "      if vetor.valores[x].no.visitado !=True:\n",
        "        print(vetor.valores[x].no.rotulo)\n",
        "        self.atual.visitado = True\n",
        "        self.atual = vetor.valores[x].no\n",
        "        break\n",
        "      x+=1\n",
        "    self.caminho(self.atual)"
      ],
      "metadata": {
        "id": "5Gr_FFq-Y1YL"
      },
      "execution_count": null,
      "outputs": []
    },
    {
      "cell_type": "code",
      "source": [
        "aestrela = AEstrela(grafo.portoUniao,grafo.curitiba)\n",
        "print('Caminho a ser seguido: \\n')\n",
        "aestrela.caminho(aestrela.inicio)"
      ],
      "metadata": {
        "colab": {
          "base_uri": "https://localhost:8080/"
        },
        "id": "-F5Evd5DIVOv",
        "outputId": "bbbb49c3-0a6c-47c4-f966-df3add0f7da5"
      },
      "execution_count": null,
      "outputs": [
        {
          "output_type": "stream",
          "name": "stdout",
          "text": [
            "Caminho a ser seguido: \n",
            "\n",
            "saoMateus\n",
            "lapa\n",
            "contenda\n",
            "araucaria\n",
            "curitiba\n"
          ]
        }
      ]
    },
    {
      "cell_type": "markdown",
      "source": [
        "BUSCA GULOSA"
      ],
      "metadata": {
        "id": "0kISd2fMq1nW"
      }
    },
    {
      "cell_type": "code",
      "source": [
        "import numpy as np"
      ],
      "metadata": {
        "id": "SqWQ02X-q3PA"
      },
      "execution_count": null,
      "outputs": []
    },
    {
      "cell_type": "code",
      "source": [
        "class No:\n",
        "\n",
        "  def __init__(self,rotulo, dObjective):\n",
        "    self.rotulo = rotulo\n",
        "    self.visitado = False\n",
        "    self.nearby = []\n",
        "\n",
        "  def add_nearby(self, nearby):\n",
        "    self.nearby.append(nearby)\n",
        "\n",
        "  def show_nearby(self):\n",
        "    for i in self.nearby:\n",
        "      print(f'{i.no.rotulo}. Custo: {i.custo}')"
      ],
      "metadata": {
        "id": "ovahCXm_q6Yu"
      },
      "execution_count": null,
      "outputs": []
    },
    {
      "cell_type": "code",
      "source": [
        "class NearbyNo:\n",
        "  def __init__(self,no,custo):\n",
        "    self.no = no\n",
        "    self.custo = custo"
      ],
      "metadata": {
        "id": "GAI0DaqorBv3"
      },
      "execution_count": null,
      "outputs": []
    },
    {
      "cell_type": "code",
      "source": [
        "class Grafo:\n",
        "  portoUniao = No(\"portoUniao\",203)\n",
        "  pauloFrontin = No(\"pauloFrontin\",172)\n",
        "  canoinhas = No(\"canoinhas\",141)\n",
        "  saoMateus = No(\"saoMateus\",123)\n",
        "  irati = No(\"irati\",139)\n",
        "  tresBarras = No(\"tresBarras\",133)\n",
        "  mafra = No(\"mafra\",94)\n",
        "  lapa = No(\"lapa\",74)\n",
        "  palmeira = No(\"palmeira\",59)\n",
        "  contenda = No(\"contenda\",39)\n",
        "  balsaNova = No(\"balsaNova\",41)\n",
        "  campoLargo = No(\"campoLargo\",27)\n",
        "  araucaria = No(\"araucaria\",23)\n",
        "  saoJosePinhais = No(\"saoJosePinhais\",13)\n",
        "  tijucasSul = No(\"tijucasSul\",56)\n",
        "  curitiba = No(\"curitiba\",0)\n",
        "\n",
        "  portoUniao.add_nearby(NearbyNo(pauloFrontin,46))\n",
        "  portoUniao.add_nearby(NearbyNo(saoMateus,87))\n",
        "  portoUniao.add_nearby(NearbyNo(canoinhas,78))\n",
        "\n",
        "  pauloFrontin.add_nearby(NearbyNo(irati,75))\n",
        "  pauloFrontin.add_nearby(NearbyNo(portoUniao,46))\n",
        "\n",
        "  canoinhas.add_nearby(NearbyNo(portoUniao,78))\n",
        "  canoinhas.add_nearby(NearbyNo(tresBarras,12))\n",
        "  canoinhas.add_nearby(NearbyNo(mafra,66))\n",
        "\n",
        "  irati.add_nearby(NearbyNo(pauloFrontin,75))\n",
        "  irati.add_nearby(NearbyNo(saoMateus,57))\n",
        "  irati.add_nearby(NearbyNo(palmeira,75))\n",
        "\n",
        "  tresBarras.add_nearby(NearbyNo(canoinhas,12))\n",
        "  tresBarras.add_nearby(NearbyNo(saoMateus,43))\n",
        "\n",
        "  mafra.add_nearby(NearbyNo(canoinhas,66))\n",
        "  mafra.add_nearby(NearbyNo(lapa,57))\n",
        "  mafra.add_nearby(NearbyNo(tijucasSul,99))\n",
        "\n",
        "  lapa.add_nearby(NearbyNo(mafra,57))\n",
        "  lapa.add_nearby(NearbyNo(saoMateus,60))\n",
        "  lapa.add_nearby(NearbyNo(contenda,26))\n",
        "\n",
        "  palmeira.add_nearby(NearbyNo(saoMateus,77))\n",
        "  palmeira.add_nearby(NearbyNo(campoLargo,55))\n",
        "  palmeira.add_nearby(NearbyNo(irati,75))\n",
        "\n",
        "  contenda.add_nearby(NearbyNo(lapa,26))\n",
        "  contenda.add_nearby(NearbyNo(balsaNova,19))\n",
        "  contenda.add_nearby(NearbyNo(araucaria,18))\n",
        "\n",
        "  saoMateus.add_nearby(NearbyNo(portoUniao,87))\n",
        "  saoMateus.add_nearby(NearbyNo(irati,57))\n",
        "  saoMateus.add_nearby(NearbyNo(palmeira,77))\n",
        "  saoMateus.add_nearby(NearbyNo(tresBarras,43))\n",
        "  saoMateus.add_nearby(NearbyNo(lapa,60))\n",
        "\n",
        "  campoLargo.add_nearby(NearbyNo(curitiba,29))\n",
        "  campoLargo.add_nearby(NearbyNo(palmeira,55))\n",
        "  campoLargo.add_nearby(NearbyNo(balsaNova,22))\n",
        "\n",
        "  balsaNova.add_nearby(NearbyNo(campoLargo,22))\n",
        "  balsaNova.add_nearby(NearbyNo(curitiba,51))\n",
        "  balsaNova.add_nearby(NearbyNo(contenda,19))\n",
        "\n",
        "  araucaria.add_nearby(NearbyNo(contenda,18))\n",
        "  araucaria.add_nearby(NearbyNo(curitiba,37))\n",
        "\n",
        "  saoJosePinhais.add_nearby(NearbyNo(curitiba,15))\n",
        "  saoJosePinhais.add_nearby(NearbyNo(tijucasSul,49))\n",
        "\n",
        "  tijucasSul.add_nearby(NearbyNo(mafra,99))\n",
        "  tijucasSul.add_nearby(NearbyNo(saoJosePinhais,49))"
      ],
      "metadata": {
        "id": "e591QlWwrC9v"
      },
      "execution_count": null,
      "outputs": []
    },
    {
      "cell_type": "code",
      "source": [
        "class VetorOrdenado:\n",
        "  def __init__(self, capacidade):\n",
        "    self.capacidade = capacidade\n",
        "    self.ultima_posicao = -1\n",
        "    self.valores = np.empty(self.capacidade,dtype = object)\n",
        "\n",
        "  def insere(self, valor):\n",
        "    posicao= 0\n",
        "\n",
        "    for i in range(self.ultima_posicao + 1):\n",
        "      posicao = i\n",
        "      if self.valores[i].custo > valor.custo:\n",
        "        break\n",
        "      if i ==self.ultima_posicao:\n",
        "        posicao = i+1\n",
        "    x = self.ultima_posicao\n",
        "    while x >= posicao:\n",
        "        self.valores[x+1] = self.valores[x]\n",
        "        x -=1\n",
        "    self.valores[posicao] = valor\n",
        "    self.ultima_posicao+=1\n",
        "\n",
        "  def imprime(self):\n",
        "    if self.ultima_posicao == -1:\n",
        "      print(\"O vetor está vazio\")\n",
        "      return\n",
        "    for i in range (self.ultima_posicao + 1):\n",
        "      print(i, ' - ',self.valores[i].no.rotulo, ' - ',self.valores[i].custo, ' - ', self.valores[i].no.dObjective)"
      ],
      "metadata": {
        "id": "2bf7XWZWrGOf"
      },
      "execution_count": null,
      "outputs": []
    },
    {
      "cell_type": "code",
      "source": [
        "grafo = Grafo()"
      ],
      "metadata": {
        "id": "NyIO1dA4rT4f"
      },
      "execution_count": null,
      "outputs": []
    },
    {
      "cell_type": "code",
      "source": [
        "class Gulosa:\n",
        "  def __init__(self,inicio,fim):\n",
        "    self.inicio=inicio\n",
        "    self.fim = fim\n",
        "    self.atual = inicio\n",
        "\n",
        "  def caminho(self,atual):\n",
        "    if self.atual == self.fim:\n",
        "      return\n",
        "    vetor = VetorOrdenado(len(self.atual.nearby))\n",
        "    for i in range(len(self.atual.nearby)):\n",
        "      vetor.insere(self.atual.nearby[i])\n",
        "    x = 0\n",
        "    while x<=len(self.atual.nearby):\n",
        "      if vetor.valores[x].no.visitado !=True:\n",
        "        print(vetor.valores[x].no.rotulo)\n",
        "        self.atual.visitado = True\n",
        "        self.atual = vetor.valores[x].no\n",
        "        break\n",
        "      x+=1\n",
        "    self.caminho(self.atual)"
      ],
      "metadata": {
        "id": "7MteQAx9rWwP"
      },
      "execution_count": null,
      "outputs": []
    },
    {
      "cell_type": "code",
      "source": [
        "gulosa = Gulosa(grafo.portoUniao,grafo.curitiba)\n",
        "print('Caminho a ser seguido: \\n')\n",
        "gulosa.caminho(gulosa.inicio)"
      ],
      "metadata": {
        "colab": {
          "base_uri": "https://localhost:8080/"
        },
        "id": "D5x6otrxrbog",
        "outputId": "8215eec3-4581-4f34-eabf-783cf587f807"
      },
      "execution_count": null,
      "outputs": [
        {
          "output_type": "stream",
          "name": "stdout",
          "text": [
            "Caminho a ser seguido: \n",
            "\n",
            "pauloFrontin\n",
            "irati\n",
            "saoMateus\n",
            "tresBarras\n",
            "canoinhas\n",
            "mafra\n",
            "lapa\n",
            "contenda\n",
            "araucaria\n",
            "curitiba\n"
          ]
        }
      ]
    }
  ]
}